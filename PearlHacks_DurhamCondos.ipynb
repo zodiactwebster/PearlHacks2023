{
 "cells": [
  {
   "cell_type": "markdown",
   "id": "bdd333dd",
   "metadata": {},
   "source": [
    "# Pearl Hacks 2023\n",
    "Charis Williams, Elizabeth Surrat and I participated in our first hackathon. We didn't quite finish in the 24 hour window, but we made models, created some visualizations in Tableau and re-learned how to do all the time series modeling functions we knew from R in python. We had a fabulous time from trying to decide on a project to standing in line for Boba. This notebook shows some of the work from that day. We are planning to clean everything up for a presentation in April. \n",
    "\n",
    "## Real Estate trends\n",
    "Time Series Analysis was one of our favorite classes. We went through our class notes and examples and looked up how to perform all the same functions in Python. We used data from https://www.redfin.com/news/data-center/ that had been aggregated on a county level. Our goal was to predict condo purchase prices 6 months into the future for three different counties in North Carolina. I picked Durham county. \n",
    "\n",
    "### Plan\n",
    "1. Data exploration \n",
    "2. Ascertain seasonality\n",
    "3. Select appropriate methods for dealing with seasonality, trend, and stationarity\n",
    "4. Try two different models on a 6 month validation set\n",
    "5. Rebuild better of two models on training + validation data\n",
    "6. Apply better model on 6 month test set\n",
    "7. Report metrics\n",
    "8. Prepare Tableau dashboard model results and overall results\n",
    "9. Bonus round: see if the townhouse sales follow the same trend as condos\n",
    " "
   ]
  },
  {
   "cell_type": "markdown",
   "id": "8e043989",
   "metadata": {},
   "source": [
    "We used a lot of libraries and tools that were new to us as our time series coursework used R exclusively. "
   ]
  },
  {
   "cell_type": "code",
   "execution_count": 1,
   "id": "21590709",
   "metadata": {},
   "outputs": [],
   "source": [
    "import pandas as pd\n",
    "import numpy as np\n",
    "#--- time series \n",
    "from statsmodels.tsa.seasonal import STL\n",
    "from statsmodels.tsa.stattools import adfuller\n",
    "from statsmodels.tsa.stattools import kpss\n",
    "from statsmodels.tsa.arima.model import ARIMA\n",
    "import pmdarima as pm                   # for auto arima\n",
    "# from statsmodels.tsa.forecasting.stl import STLForecast\n",
    "# --- basic stats and error\n",
    "import statsmodels.api as sm\n",
    "from scipy import stats\n",
    "from sklearn.metrics import mean_absolute_error\n",
    "from sklearn.metrics import mean_absolute_percentage_error\n",
    "# --- plotting\n",
    "import seaborn as sns\n",
    "%matplotlib inline\n",
    "import matplotlib.pyplot as plt\n",
    "from matplotlib.dates import DateFormatter\n",
    "import matplotlib.dates as mdates\n",
    "\n"
   ]
  },
  {
   "cell_type": "markdown",
   "id": "426a9069",
   "metadata": {},
   "source": [
    "This data set was a gz file that was unpacked and loaded into Excel to convert to csv. We learned later we could probably have used python to open the gz file. This file was directly downloaded from the redfin website. Kaggle also mentions this data as a good data source. (https://www.kaggle.com/datasets/vincentvaseghi/us-cities-housing-market-data)"
   ]
  },
  {
   "cell_type": "code",
   "execution_count": 2,
   "id": "40ef76f2",
   "metadata": {},
   "outputs": [
    {
     "data": {
      "text/plain": [
       "<bound method IndexOpsMixin.tolist of Index(['period_begin', 'period_end', 'period_duration', 'region_type',\n",
       "       'region_type_id', 'table_id', 'is_seasonally_adjusted', 'region',\n",
       "       'city', 'state', 'state_code', 'property_type', 'property_type_id',\n",
       "       'median_sale_price', 'median_sale_price_mom', 'median_sale_price_yoy',\n",
       "       'median_list_price', 'median_list_price_mom', 'median_list_price_yoy',\n",
       "       'median_ppsf', 'median_ppsf_mom', 'median_ppsf_yoy', 'median_list_ppsf',\n",
       "       'median_list_ppsf_mom', 'median_list_ppsf_yoy', 'homes_sold',\n",
       "       'homes_sold_mom', 'homes_sold_yoy', 'pending_sales',\n",
       "       'pending_sales_mom', 'pending_sales_yoy', 'new_listings',\n",
       "       'new_listings_mom', 'new_listings_yoy', 'inventory', 'inventory_mom',\n",
       "       'inventory_yoy', 'months_of_supply', 'months_of_supply_mom',\n",
       "       'months_of_supply_yoy', 'median_dom', 'median_dom_mom',\n",
       "       'median_dom_yoy', 'avg_sale_to_list', 'avg_sale_to_list_mom',\n",
       "       'avg_sale_to_list_yoy', 'sold_above_list', 'sold_above_list_mom',\n",
       "       'sold_above_list_yoy', 'price_drops', 'price_drops_mom',\n",
       "       'price_drops_yoy', 'off_market_in_two_weeks',\n",
       "       'off_market_in_two_weeks_mom', 'off_market_in_two_weeks_yoy',\n",
       "       'parent_metro_region', 'parent_metro_region_metro_code',\n",
       "       'last_updated'],\n",
       "      dtype='object')>"
      ]
     },
     "execution_count": 2,
     "metadata": {},
     "output_type": "execute_result"
    }
   ],
   "source": [
    "df = pd.read_csv(\"data/county_market_tracker.csv\")\n",
    "df.columns.to_list"
   ]
  },
  {
   "cell_type": "code",
   "execution_count": 3,
   "id": "9de75370",
   "metadata": {},
   "outputs": [],
   "source": [
    "# split out NC and Durham County condos\n",
    "# select Durham county in NC\n",
    "durham_nc = df[((df['state'].str.contains('North Ca')) &( df['region'].str.contains('Durham')))]\n",
    "# create a date column in date format\n",
    "# We decided to use beginning of the month\n",
    "dates = pd.to_datetime(durham_nc['period_begin'])\n",
    "durham_nc.insert(0, \"date\", dates)"
   ]
  },
  {
   "cell_type": "code",
   "execution_count": 4,
   "id": "18a4f410",
   "metadata": {
    "scrolled": true
   },
   "outputs": [
    {
     "name": "stdout",
     "output_type": "stream",
     "text": [
      "515130   2012-01-01\n",
      "Name: date, dtype: datetime64[ns] 607004   2022-12-01\n",
      "Name: date, dtype: datetime64[ns]\n",
      "132\n"
     ]
    }
   ],
   "source": [
    "# sort by date, find beginning and ending\n",
    "print( durham_nc.sort_values('date').date.head(1), durham_nc.sort_values('date').date.tail(1))\n",
    "# find number of unique dates\n",
    "print(durham_nc.period_begin.nunique())\n"
   ]
  },
  {
   "cell_type": "code",
   "execution_count": 5,
   "id": "f4977fbb",
   "metadata": {},
   "outputs": [
    {
     "data": {
      "text/plain": [
       "array(['Multi-Family (2-4 Unit)', 'All Residential', 'Condo/Co-op',\n",
       "       'Townhouse', 'Single Family Residential'], dtype=object)"
      ]
     },
     "execution_count": 5,
     "metadata": {},
     "output_type": "execute_result"
    }
   ],
   "source": [
    "# find the property types\n",
    "durham_nc.property_type.unique()"
   ]
  },
  {
   "cell_type": "code",
   "execution_count": 6,
   "id": "6e85ce65",
   "metadata": {},
   "outputs": [],
   "source": [
    "# select condos and the information needed for time series - which is only the price!\n",
    "durham_condos = durham_nc[durham_nc['property_type'] == 'Condo/Co-op' ][['date', 'median_sale_price']]\n",
    "# get townhouses while you are here\n",
    "durham_townhome = durham_nc[durham_nc['property_type'] == 'Townhouse' ][['date', 'median_sale_price']]\n"
   ]
  },
  {
   "cell_type": "code",
   "execution_count": 7,
   "id": "0799d581",
   "metadata": {},
   "outputs": [],
   "source": [
    "# This is a way to load up and start here. \n",
    "# durham_condos.to_csv(\"durham_condos.csv\", index=False)\n",
    "# durham_townhome.to_csv(\"durham_townhome.csv\", index=False)\n",
    "durham_condos = pd.read_csv(\"durham_condos.csv\")\n",
    "durham_townhome = pd.read_csv(\"durham_townhome.csv\")"
   ]
  },
  {
   "cell_type": "code",
   "execution_count": 8,
   "id": "89f65d06",
   "metadata": {},
   "outputs": [
    {
     "name": "stdout",
     "output_type": "stream",
     "text": [
      "<class 'pandas.core.frame.DataFrame'>\n",
      "RangeIndex: 132 entries, 0 to 131\n",
      "Data columns (total 2 columns):\n",
      " #   Column             Non-Null Count  Dtype  \n",
      "---  ------             --------------  -----  \n",
      " 0   date               132 non-null    object \n",
      " 1   median_sale_price  132 non-null    float64\n",
      "dtypes: float64(1), object(1)\n",
      "memory usage: 2.2+ KB\n"
     ]
    }
   ],
   "source": [
    "durham_condos.info() # check out how many entries"
   ]
  },
  {
   "cell_type": "code",
   "execution_count": 9,
   "id": "ff0baf7d",
   "metadata": {
    "scrolled": true
   },
   "outputs": [],
   "source": [
    "start_date = durham_condos.sort_values('date').date.iloc[0]\n",
    "end_date = durham_condos.sort_values('date').date.iloc[-1]\n"
   ]
  },
  {
   "cell_type": "code",
   "execution_count": 10,
   "id": "14559eb8",
   "metadata": {},
   "outputs": [
    {
     "data": {
      "text/html": [
       "<div>\n",
       "<style scoped>\n",
       "    .dataframe tbody tr th:only-of-type {\n",
       "        vertical-align: middle;\n",
       "    }\n",
       "\n",
       "    .dataframe tbody tr th {\n",
       "        vertical-align: top;\n",
       "    }\n",
       "\n",
       "    .dataframe thead th {\n",
       "        text-align: right;\n",
       "    }\n",
       "</style>\n",
       "<table border=\"1\" class=\"dataframe\">\n",
       "  <thead>\n",
       "    <tr style=\"text-align: right;\">\n",
       "      <th></th>\n",
       "      <th>date</th>\n",
       "      <th>median_sale_price</th>\n",
       "    </tr>\n",
       "  </thead>\n",
       "  <tbody>\n",
       "    <tr>\n",
       "      <th>13</th>\n",
       "      <td>2012-01-01</td>\n",
       "      <td>165000.0</td>\n",
       "    </tr>\n",
       "    <tr>\n",
       "      <th>29</th>\n",
       "      <td>2012-02-01</td>\n",
       "      <td>105000.0</td>\n",
       "    </tr>\n",
       "    <tr>\n",
       "      <th>100</th>\n",
       "      <td>2012-03-01</td>\n",
       "      <td>153450.0</td>\n",
       "    </tr>\n",
       "    <tr>\n",
       "      <th>34</th>\n",
       "      <td>2012-04-01</td>\n",
       "      <td>139900.0</td>\n",
       "    </tr>\n",
       "    <tr>\n",
       "      <th>96</th>\n",
       "      <td>2012-05-01</td>\n",
       "      <td>137450.0</td>\n",
       "    </tr>\n",
       "  </tbody>\n",
       "</table>\n",
       "</div>"
      ],
      "text/plain": [
       "           date  median_sale_price\n",
       "13   2012-01-01           165000.0\n",
       "29   2012-02-01           105000.0\n",
       "100  2012-03-01           153450.0\n",
       "34   2012-04-01           139900.0\n",
       "96   2012-05-01           137450.0"
      ]
     },
     "execution_count": 10,
     "metadata": {},
     "output_type": "execute_result"
    }
   ],
   "source": [
    "durham_condos=durham_condos.sort_values('date') \n",
    "durham_condos.head()"
   ]
  },
  {
   "cell_type": "code",
   "execution_count": 11,
   "id": "f77e8c64",
   "metadata": {},
   "outputs": [
    {
     "name": "stdout",
     "output_type": "stream",
     "text": [
      "DatetimeIndex([], dtype='datetime64[ns]', freq=None)\n"
     ]
    }
   ],
   "source": [
    "# time series requires no missing dates. find out if missing date.\n",
    "# https://www.geeksforgeeks.org/check-missing-dates-in-pandas/\n",
    "# create a range of dates - then compare to the actual range in the data\n",
    "my_range = pd.date_range(\n",
    "  start=start_date, end=end_date, freq='MS') # month start\n",
    "print(my_range.difference(durham_condos.date))\n",
    "# there are no missing dates\n"
   ]
  },
  {
   "cell_type": "code",
   "execution_count": 12,
   "id": "f44824a4",
   "metadata": {},
   "outputs": [
    {
     "data": {
      "text/plain": [
       "<AxesSubplot:xlabel='date', ylabel='median_sale_price'>"
      ]
     },
     "execution_count": 12,
     "metadata": {},
     "output_type": "execute_result"
    },
    {
     "data": {
      "image/png": "[encoded data removed]",
      "text/plain": [
       "<Figure size 432x216 with 1 Axes>"
      ]
     },
     "metadata": {
      "needs_background": "light"
     },
     "output_type": "display_data"
    }
   ],
   "source": [
    "fig, ax = plt.subplots(figsize=(6, 3))\n",
    " # Major ticks every half year, minor ticks every month,\n",
    "# ax.xaxis.set_major_formatter(mdates.DateFormatter('%Y'))\n",
    "sns.lineplot(data = durham_condos, x='date', y='median_sale_price')\n",
    "# this looks terrible - but I'll have to fix it later. \n"
   ]
  },
  {
   "cell_type": "code",
   "execution_count": 13,
   "id": "e8535746",
   "metadata": {},
   "outputs": [
    {
     "data": {
      "text/html": [
       "<div>\n",
       "<style scoped>\n",
       "    .dataframe tbody tr th:only-of-type {\n",
       "        vertical-align: middle;\n",
       "    }\n",
       "\n",
       "    .dataframe tbody tr th {\n",
       "        vertical-align: top;\n",
       "    }\n",
       "\n",
       "    .dataframe thead th {\n",
       "        text-align: right;\n",
       "    }\n",
       "</style>\n",
       "<table border=\"1\" class=\"dataframe\">\n",
       "  <thead>\n",
       "    <tr style=\"text-align: right;\">\n",
       "      <th></th>\n",
       "      <th>date</th>\n",
       "      <th>median_sale_price</th>\n",
       "    </tr>\n",
       "  </thead>\n",
       "  <tbody>\n",
       "    <tr>\n",
       "      <th>16</th>\n",
       "      <td>2015-12-01</td>\n",
       "      <td>430000.0</td>\n",
       "    </tr>\n",
       "    <tr>\n",
       "      <th>36</th>\n",
       "      <td>2017-11-01</td>\n",
       "      <td>482500.0</td>\n",
       "    </tr>\n",
       "    <tr>\n",
       "      <th>117</th>\n",
       "      <td>2017-12-01</td>\n",
       "      <td>459336.5</td>\n",
       "    </tr>\n",
       "    <tr>\n",
       "      <th>48</th>\n",
       "      <td>2018-07-01</td>\n",
       "      <td>314728.0</td>\n",
       "    </tr>\n",
       "    <tr>\n",
       "      <th>119</th>\n",
       "      <td>2019-03-01</td>\n",
       "      <td>395841.5</td>\n",
       "    </tr>\n",
       "    <tr>\n",
       "      <th>39</th>\n",
       "      <td>2019-04-01</td>\n",
       "      <td>308500.0</td>\n",
       "    </tr>\n",
       "    <tr>\n",
       "      <th>114</th>\n",
       "      <td>2019-12-01</td>\n",
       "      <td>600390.0</td>\n",
       "    </tr>\n",
       "    <tr>\n",
       "      <th>23</th>\n",
       "      <td>2020-01-01</td>\n",
       "      <td>378208.5</td>\n",
       "    </tr>\n",
       "    <tr>\n",
       "      <th>35</th>\n",
       "      <td>2021-11-01</td>\n",
       "      <td>302900.0</td>\n",
       "    </tr>\n",
       "    <tr>\n",
       "      <th>41</th>\n",
       "      <td>2022-03-01</td>\n",
       "      <td>362000.0</td>\n",
       "    </tr>\n",
       "    <tr>\n",
       "      <th>8</th>\n",
       "      <td>2022-04-01</td>\n",
       "      <td>305250.0</td>\n",
       "    </tr>\n",
       "    <tr>\n",
       "      <th>74</th>\n",
       "      <td>2022-08-01</td>\n",
       "      <td>325000.0</td>\n",
       "    </tr>\n",
       "    <tr>\n",
       "      <th>130</th>\n",
       "      <td>2022-09-01</td>\n",
       "      <td>325750.0</td>\n",
       "    </tr>\n",
       "  </tbody>\n",
       "</table>\n",
       "</div>"
      ],
      "text/plain": [
       "           date  median_sale_price\n",
       "16   2015-12-01           430000.0\n",
       "36   2017-11-01           482500.0\n",
       "117  2017-12-01           459336.5\n",
       "48   2018-07-01           314728.0\n",
       "119  2019-03-01           395841.5\n",
       "39   2019-04-01           308500.0\n",
       "114  2019-12-01           600390.0\n",
       "23   2020-01-01           378208.5\n",
       "35   2021-11-01           302900.0\n",
       "41   2022-03-01           362000.0\n",
       "8    2022-04-01           305250.0\n",
       "74   2022-08-01           325000.0\n",
       "130  2022-09-01           325750.0"
      ]
     },
     "execution_count": 13,
     "metadata": {},
     "output_type": "execute_result"
    }
   ],
   "source": [
    "# what months are the ones with the big spikes?\n",
    "durham_condos[durham_condos.median_sale_price > 300000]"
   ]
  },
  {
   "cell_type": "code",
   "execution_count": 14,
   "id": "8bc1523a",
   "metadata": {},
   "outputs": [],
   "source": [
    "durham_condos = durham_condos.set_index('date') # set the index to date for time series\n"
   ]
  },
  {
   "cell_type": "code",
   "execution_count": 15,
   "id": "22d45ed1",
   "metadata": {
    "scrolled": false
   },
   "outputs": [
    {
     "data": {
      "image/png": "[encoded data removed]",
      "text/plain": [
       "<Figure size 432x288 with 4 Axes>"
      ]
     },
     "metadata": {
      "needs_background": "light"
     },
     "output_type": "display_data"
    }
   ],
   "source": [
    "# do decomposition\n",
    "stl = STL(durham_condos.median_sale_price, seasonal=7, period=12)\n",
    "res = stl.fit()\n",
    "fig = res.plot()"
   ]
  },
  {
   "cell_type": "code",
   "execution_count": 16,
   "id": "50819fff",
   "metadata": {},
   "outputs": [],
   "source": [
    "# use a 6 month validation set and a 6 month test set as we want to forecast 6 months into future. \n",
    "valid = durham_condos.tail(12)\n",
    "valid = valid[ :-6]\n",
    "test = durham_condos.tail(6)\n",
    "train = durham_condos[:-12]"
   ]
  },
  {
   "cell_type": "markdown",
   "id": "8b5203ae",
   "metadata": {},
   "source": [
    "It is not clear there is a yearly (every 12 month) seasonality here. There is definitely a trend. \n",
    "Check to see if stationary before differencing on seasonal level and after. "
   ]
  },
  {
   "cell_type": "code",
   "execution_count": 17,
   "id": "8d028134",
   "metadata": {},
   "outputs": [],
   "source": [
    "# https://www.statsmodels.org/dev/examples/notebooks/generated/stationarity_detrending_adf_kpss.html\n",
    "\n",
    "def kpss_test(timeseries, option='c'):\n",
    "    print(\"Results of KPSS Test:\")\n",
    "    kpsstest = kpss(timeseries, regression=option, nlags=\"auto\")\n",
    "    kpss_output = pd.Series(\n",
    "        kpsstest[0:3], index=[\"Test Statistic\", \"p-value\", \"Lags Used\"]\n",
    "    )\n",
    "    for key, value in kpsstest[3].items():\n",
    "        kpss_output[\"Critical Value (%s)\" % key] = value\n",
    "    print(kpss_output)"
   ]
  },
  {
   "cell_type": "code",
   "execution_count": 18,
   "id": "6dc17e68",
   "metadata": {},
   "outputs": [],
   "source": [
    "# https://www.statsmodels.org/dev/examples/notebooks/generated/stationarity_detrending_adf_kpss.html\n",
    "# regression options {“c”,”ct”,”ctt”,”n”} c is for constant only. ct is for constant with trend. \n",
    "def adf_test(timeseries, option='c'):\n",
    "    print(\"Results of Dickey-Fuller Test:\")\n",
    "    dftest = adfuller(timeseries, autolag=\"AIC\", regression=option)\n",
    "    dfoutput = pd.Series(\n",
    "        dftest[0:4],\n",
    "        index=[\n",
    "            \"Test Statistic\",\n",
    "            \"p-value\",\n",
    "            \"#Lags Used\",\n",
    "            \"Number of Observations Used\",\n",
    "        ],\n",
    "    )\n",
    "    for key, value in dftest[4].items():\n",
    "        dfoutput[\"Critical Value (%s)\" % key] = value\n",
    "    print(dfoutput)"
   ]
  },
  {
   "cell_type": "code",
   "execution_count": 19,
   "id": "9a79ded7",
   "metadata": {
    "scrolled": true
   },
   "outputs": [],
   "source": [
    "# take seasonal differences and add to training data\n",
    "# add as last column\n",
    "train.insert( train.shape[1], \"diff_data\", train.median_sale_price.diff(12))\n"
   ]
  },
  {
   "cell_type": "code",
   "execution_count": 20,
   "id": "ccba37d1",
   "metadata": {},
   "outputs": [
    {
     "name": "stdout",
     "output_type": "stream",
     "text": [
      "Results of Dickey-Fuller Test:\n",
      "Test Statistic                -6.525395e+00\n",
      "p-value                        1.622729e-07\n",
      "#Lags Used                     1.100000e+01\n",
      "Number of Observations Used    9.600000e+01\n",
      "Critical Value (1%)           -4.056309e+00\n",
      "Critical Value (5%)           -3.457255e+00\n",
      "Critical Value (10%)          -3.154435e+00\n",
      "dtype: float64\n"
     ]
    },
    {
     "data": {
      "image/png": "[encoded data removed]",
      "text/plain": [
       "<Figure size 432x288 with 1 Axes>"
      ]
     },
     "metadata": {
      "needs_background": "light"
     },
     "output_type": "display_data"
    }
   ],
   "source": [
    "# do you have stationarity on differenced data?\n",
    "sns.lineplot(data = train.tail(-12), x='date', y='diff_data')\n",
    "# null hypothesis is The series has a unit root.(aka the series is NOT stationary.)\n",
    "# this p value is small - you reject the null. you have some pattern left. \n",
    "\n",
    "adf_test(train.tail(-12).diff_data, 'ct')"
   ]
  },
  {
   "cell_type": "code",
   "execution_count": 21,
   "id": "5fe57a4f",
   "metadata": {},
   "outputs": [
    {
     "name": "stdout",
     "output_type": "stream",
     "text": [
      "Results of Dickey-Fuller Test:\n",
      "Test Statistic                -7.667645e+00\n",
      "p-value                        4.187460e-10\n",
      "#Lags Used                     1.000000e+00\n",
      "Number of Observations Used    1.180000e+02\n",
      "Critical Value (1%)           -4.037614e+00\n",
      "Critical Value (5%)           -3.448373e+00\n",
      "Critical Value (10%)          -3.149257e+00\n",
      "dtype: float64\n"
     ]
    },
    {
     "data": {
      "image/png": "[encoded data removed]",
      "text/plain": [
       "<Figure size 432x288 with 1 Axes>"
      ]
     },
     "metadata": {
      "needs_background": "light"
     },
     "output_type": "display_data"
    }
   ],
   "source": [
    "# do you have stationarity on undifferenced daata?\n",
    "sns.lineplot(data = train, x='date', y='median_sale_price')\n",
    "# null hypothesis is The series has a unit root.(aka the series is NOT stationary.)\n",
    "# this p value is small - you reject the null. you have some pattern left. \n",
    "\n",
    "adf_test(train.median_sale_price, 'ct')"
   ]
  },
  {
   "cell_type": "code",
   "execution_count": 22,
   "id": "600c70e8",
   "metadata": {},
   "outputs": [],
   "source": [
    "# take monthly differences on seasonal differences and add to training data\n",
    "# add as last column\n",
    "train.insert( train.shape[1], \"mY_diff\", train.diff_data.diff(1))\n",
    "# also do differences of one lag on just the price. \n",
    "train.insert( train.shape[1], \"month_diff\", train.median_sale_price.diff(1))"
   ]
  },
  {
   "cell_type": "code",
   "execution_count": 23,
   "id": "97189981",
   "metadata": {
    "scrolled": true
   },
   "outputs": [
    {
     "name": "stdout",
     "output_type": "stream",
     "text": [
      "Results of Dickey-Fuller Test:\n",
      "Test Statistic                 -4.655360\n",
      "p-value                         0.000832\n",
      "#Lags Used                     13.000000\n",
      "Number of Observations Used    93.000000\n",
      "Critical Value (1%)            -4.059569\n",
      "Critical Value (5%)            -3.458800\n",
      "Critical Value (10%)           -3.155334\n",
      "dtype: float64\n"
     ]
    }
   ],
   "source": [
    "adf_test(train.tail(-13).mY_diff, 'ct') # 13 rows of nan. "
   ]
  },
  {
   "cell_type": "code",
   "execution_count": 24,
   "id": "9fa4f918",
   "metadata": {},
   "outputs": [
    {
     "name": "stdout",
     "output_type": "stream",
     "text": [
      "Results of Dickey-Fuller Test:\n",
      "Test Statistic                -7.710289e+00\n",
      "p-value                        3.338338e-10\n",
      "#Lags Used                     6.000000e+00\n",
      "Number of Observations Used    1.120000e+02\n",
      "Critical Value (1%)           -4.041963e+00\n",
      "Critical Value (5%)           -3.450443e+00\n",
      "Critical Value (10%)          -3.150465e+00\n",
      "dtype: float64\n"
     ]
    }
   ],
   "source": [
    "adf_test(train.tail(-1).month_diff, 'ct') # one row of nan"
   ]
  },
  {
   "cell_type": "code",
   "execution_count": 25,
   "id": "dacf13fb",
   "metadata": {
    "scrolled": true
   },
   "outputs": [
    {
     "name": "stdout",
     "output_type": "stream",
     "text": [
      "Results of KPSS Test:\n",
      "Test Statistic           0.04112\n",
      "p-value                  0.10000\n",
      "Lags Used                3.00000\n",
      "Critical Value (10%)     0.11900\n",
      "Critical Value (5%)      0.14600\n",
      "Critical Value (2.5%)    0.17600\n",
      "Critical Value (1%)      0.21600\n",
      "dtype: float64\n"
     ]
    },
    {
     "name": "stderr",
     "output_type": "stream",
     "text": [
      "C:\\Users\\zodia\\anaconda3\\lib\\site-packages\\statsmodels\\tsa\\stattools.py:2022: InterpolationWarning: The test statistic is outside of the range of p-values available in the\n",
      "look-up table. The actual p-value is greater than the p-value returned.\n",
      "\n",
      "  warnings.warn(\n"
     ]
    }
   ],
   "source": [
    "# kpss test\n",
    "# Null Hypothesis: The process is trend stationary. # fail to reject. \n",
    "kpss_test(train.tail(-12).diff_data, 'ct')"
   ]
  },
  {
   "cell_type": "markdown",
   "id": "72dc5a88",
   "metadata": {},
   "source": [
    "Dickey fuller tests indicate there is stationarity after seasonal differencing of 12 month season and then a single month lag random walk. The kpss test shows stationary after just the 12 month differencing. "
   ]
  },
  {
   "cell_type": "markdown",
   "id": "48414c95",
   "metadata": {},
   "source": [
    "Let's look at the ACF and PACF. "
   ]
  },
  {
   "cell_type": "code",
   "execution_count": 26,
   "id": "4f0e0f16",
   "metadata": {},
   "outputs": [
    {
     "name": "stderr",
     "output_type": "stream",
     "text": [
      "C:\\Users\\zodia\\anaconda3\\lib\\site-packages\\statsmodels\\graphics\\tsaplots.py:348: FutureWarning: The default method 'yw' can produce PACF values outside of the [-1,1] interval. After 0.13, the default will change tounadjusted Yule-Walker ('ywm'). You can use this method now by setting method='ywm'.\n",
      "  warnings.warn(\n"
     ]
    },
    {
     "data": {
      "image/png": "[encoded data removed]",
      "text/plain": [
       "<Figure size 720x576 with 2 Axes>"
      ]
     },
     "metadata": {
      "needs_background": "light"
     },
     "output_type": "display_data"
    }
   ],
   "source": [
    "fig = plt.figure(figsize=(10, 8))\n",
    "ax1 = fig.add_subplot(211)\n",
    "fig = sm.graphics.tsa.plot_acf(train['median_sale_price'], lags=30, ax=ax1)\n",
    "ax2 = fig.add_subplot(212)\n",
    "fig = sm.graphics.tsa.plot_pacf(train['median_sale_price'], lags=30, ax=ax2)\n",
    "\n"
   ]
  },
  {
   "cell_type": "code",
   "execution_count": 27,
   "id": "6a7112cd",
   "metadata": {},
   "outputs": [
    {
     "name": "stderr",
     "output_type": "stream",
     "text": [
      "C:\\Users\\zodia\\anaconda3\\lib\\site-packages\\statsmodels\\graphics\\tsaplots.py:348: FutureWarning: The default method 'yw' can produce PACF values outside of the [-1,1] interval. After 0.13, the default will change tounadjusted Yule-Walker ('ywm'). You can use this method now by setting method='ywm'.\n",
      "  warnings.warn(\n"
     ]
    },
    {
     "data": {
      "image/png": "[encoded data removed]",
      "text/plain": [
       "<Figure size 864x576 with 2 Axes>"
      ]
     },
     "metadata": {
      "needs_background": "light"
     },
     "output_type": "display_data"
    }
   ],
   "source": [
    "fig = plt.figure(figsize=(12, 8))\n",
    "ax1 = fig.add_subplot(211)\n",
    "fig = sm.graphics.tsa.plot_acf(train.tail(-12)['diff_data'], lags=20, ax=ax1)\n",
    "ax2 = fig.add_subplot(212)\n",
    "fig = sm.graphics.tsa.plot_pacf(train.tail(-12)['diff_data'], lags=20, ax=ax2)\n",
    "\n"
   ]
  },
  {
   "cell_type": "markdown",
   "id": "0ebd342e",
   "metadata": {},
   "source": [
    "The ACF and PACF don't give a clear signal that differencing was the right thing to do! Or that there is a lot of correlation over a 12 month period. \n",
    "### auto arima \n",
    "Try auto arima with m=12 and m=1. Use the m=12 to seed sarimax function. "
   ]
  },
  {
   "cell_type": "code",
   "execution_count": 28,
   "id": "3193a288",
   "metadata": {},
   "outputs": [
    {
     "data": {
      "text/html": [
       "<style>#sk-container-id-1 {color: black;background-color: white;}#sk-container-id-1 pre{padding: 0;}#sk-container-id-1 div.sk-toggleable {background-color: white;}#sk-container-id-1 label.sk-toggleable__label {cursor: pointer;display: block;width: 100%;margin-bottom: 0;padding: 0.3em;box-sizing: border-box;text-align: center;}#sk-container-id-1 label.sk-toggleable__label-arrow:before {content: \"▸\";float: left;margin-right: 0.25em;color: #696969;}#sk-container-id-1 label.sk-toggleable__label-arrow:hover:before {color: black;}#sk-container-id-1 div.sk-estimator:hover label.sk-toggleable__label-arrow:before {color: black;}#sk-container-id-1 div.sk-toggleable__content {max-height: 0;max-width: 0;overflow: hidden;text-align: left;background-color: #f0f8ff;}#sk-container-id-1 div.sk-toggleable__content pre {margin: 0.2em;color: black;border-radius: 0.25em;background-color: #f0f8ff;}#sk-container-id-1 input.sk-toggleable__control:checked~div.sk-toggleable__content {max-height: 200px;max-width: 100%;overflow: auto;}#sk-container-id-1 input.sk-toggleable__control:checked~label.sk-toggleable__label-arrow:before {content: \"▾\";}#sk-container-id-1 div.sk-estimator input.sk-toggleable__control:checked~label.sk-toggleable__label {background-color: #d4ebff;}#sk-container-id-1 div.sk-label input.sk-toggleable__control:checked~label.sk-toggleable__label {background-color: #d4ebff;}#sk-container-id-1 input.sk-hidden--visually {border: 0;clip: rect(1px 1px 1px 1px);clip: rect(1px, 1px, 1px, 1px);height: 1px;margin: -1px;overflow: hidden;padding: 0;position: absolute;width: 1px;}#sk-container-id-1 div.sk-estimator {font-family: monospace;background-color: #f0f8ff;border: 1px dotted black;border-radius: 0.25em;box-sizing: border-box;margin-bottom: 0.5em;}#sk-container-id-1 div.sk-estimator:hover {background-color: #d4ebff;}#sk-container-id-1 div.sk-parallel-item::after {content: \"\";width: 100%;border-bottom: 1px solid gray;flex-grow: 1;}#sk-container-id-1 div.sk-label:hover label.sk-toggleable__label {background-color: #d4ebff;}#sk-container-id-1 div.sk-serial::before {content: \"\";position: absolute;border-left: 1px solid gray;box-sizing: border-box;top: 0;bottom: 0;left: 50%;z-index: 0;}#sk-container-id-1 div.sk-serial {display: flex;flex-direction: column;align-items: center;background-color: white;padding-right: 0.2em;padding-left: 0.2em;position: relative;}#sk-container-id-1 div.sk-item {position: relative;z-index: 1;}#sk-container-id-1 div.sk-parallel {display: flex;align-items: stretch;justify-content: center;background-color: white;position: relative;}#sk-container-id-1 div.sk-item::before, #sk-container-id-1 div.sk-parallel-item::before {content: \"\";position: absolute;border-left: 1px solid gray;box-sizing: border-box;top: 0;bottom: 0;left: 50%;z-index: -1;}#sk-container-id-1 div.sk-parallel-item {display: flex;flex-direction: column;z-index: 1;position: relative;background-color: white;}#sk-container-id-1 div.sk-parallel-item:first-child::after {align-self: flex-end;width: 50%;}#sk-container-id-1 div.sk-parallel-item:last-child::after {align-self: flex-start;width: 50%;}#sk-container-id-1 div.sk-parallel-item:only-child::after {width: 0;}#sk-container-id-1 div.sk-dashed-wrapped {border: 1px dashed gray;margin: 0 0.4em 0.5em 0.4em;box-sizing: border-box;padding-bottom: 0.4em;background-color: white;}#sk-container-id-1 div.sk-label label {font-family: monospace;font-weight: bold;display: inline-block;line-height: 1.2em;}#sk-container-id-1 div.sk-label-container {text-align: center;}#sk-container-id-1 div.sk-container {/* jupyter's `normalize.less` sets `[hidden] { display: none; }` but bootstrap.min.css set `[hidden] { display: none !important; }` so we also need the `!important` here to be able to override the default hidden behavior on the sphinx rendered scikit-learn.org. See: https://github.com/scikit-learn/scikit-learn/issues/21755 */display: inline-block !important;position: relative;}#sk-container-id-1 div.sk-text-repr-fallback {display: none;}</style><div id=\"sk-container-id-1\" class=\"sk-top-container\"><div class=\"sk-text-repr-fallback\"><pre> ARIMA(4,1,1)(1,0,1)[12] intercept</pre><b>In a Jupyter environment, please rerun this cell to show the HTML representation or trust the notebook. <br />On GitHub, the HTML representation is unable to render, please try loading this page with nbviewer.org.</b></div><div class=\"sk-container\" hidden><div class=\"sk-item\"><div class=\"sk-estimator sk-toggleable\"><input class=\"sk-toggleable__control sk-hidden--visually\" id=\"sk-estimator-id-1\" type=\"checkbox\" checked><label for=\"sk-estimator-id-1\" class=\"sk-toggleable__label sk-toggleable__label-arrow\">ARIMA</label><div class=\"sk-toggleable__content\"><pre> ARIMA(4,1,1)(1,0,1)[12] intercept</pre></div></div></div></div></div>"
      ],
      "text/plain": [
       "ARIMA(order=(4, 1, 1), scoring_args={}, seasonal_order=(1, 0, 1, 12),\n",
       "      suppress_warnings=True)"
      ]
     },
     "execution_count": 28,
     "metadata": {},
     "output_type": "execute_result"
    }
   ],
   "source": [
    "model = pm.auto_arima(train['median_sale_price'], seasonal=True, m=12, stepwise=True) \n",
    "# trace=True to show the aic and terms as it searches\n",
    "model\n",
    "# used with sarimax"
   ]
  },
  {
   "cell_type": "code",
   "execution_count": 29,
   "id": "6eed98bd",
   "metadata": {},
   "outputs": [
    {
     "data": {
      "text/html": [
       "<style>#sk-container-id-2 {color: black;background-color: white;}#sk-container-id-2 pre{padding: 0;}#sk-container-id-2 div.sk-toggleable {background-color: white;}#sk-container-id-2 label.sk-toggleable__label {cursor: pointer;display: block;width: 100%;margin-bottom: 0;padding: 0.3em;box-sizing: border-box;text-align: center;}#sk-container-id-2 label.sk-toggleable__label-arrow:before {content: \"▸\";float: left;margin-right: 0.25em;color: #696969;}#sk-container-id-2 label.sk-toggleable__label-arrow:hover:before {color: black;}#sk-container-id-2 div.sk-estimator:hover label.sk-toggleable__label-arrow:before {color: black;}#sk-container-id-2 div.sk-toggleable__content {max-height: 0;max-width: 0;overflow: hidden;text-align: left;background-color: #f0f8ff;}#sk-container-id-2 div.sk-toggleable__content pre {margin: 0.2em;color: black;border-radius: 0.25em;background-color: #f0f8ff;}#sk-container-id-2 input.sk-toggleable__control:checked~div.sk-toggleable__content {max-height: 200px;max-width: 100%;overflow: auto;}#sk-container-id-2 input.sk-toggleable__control:checked~label.sk-toggleable__label-arrow:before {content: \"▾\";}#sk-container-id-2 div.sk-estimator input.sk-toggleable__control:checked~label.sk-toggleable__label {background-color: #d4ebff;}#sk-container-id-2 div.sk-label input.sk-toggleable__control:checked~label.sk-toggleable__label {background-color: #d4ebff;}#sk-container-id-2 input.sk-hidden--visually {border: 0;clip: rect(1px 1px 1px 1px);clip: rect(1px, 1px, 1px, 1px);height: 1px;margin: -1px;overflow: hidden;padding: 0;position: absolute;width: 1px;}#sk-container-id-2 div.sk-estimator {font-family: monospace;background-color: #f0f8ff;border: 1px dotted black;border-radius: 0.25em;box-sizing: border-box;margin-bottom: 0.5em;}#sk-container-id-2 div.sk-estimator:hover {background-color: #d4ebff;}#sk-container-id-2 div.sk-parallel-item::after {content: \"\";width: 100%;border-bottom: 1px solid gray;flex-grow: 1;}#sk-container-id-2 div.sk-label:hover label.sk-toggleable__label {background-color: #d4ebff;}#sk-container-id-2 div.sk-serial::before {content: \"\";position: absolute;border-left: 1px solid gray;box-sizing: border-box;top: 0;bottom: 0;left: 50%;z-index: 0;}#sk-container-id-2 div.sk-serial {display: flex;flex-direction: column;align-items: center;background-color: white;padding-right: 0.2em;padding-left: 0.2em;position: relative;}#sk-container-id-2 div.sk-item {position: relative;z-index: 1;}#sk-container-id-2 div.sk-parallel {display: flex;align-items: stretch;justify-content: center;background-color: white;position: relative;}#sk-container-id-2 div.sk-item::before, #sk-container-id-2 div.sk-parallel-item::before {content: \"\";position: absolute;border-left: 1px solid gray;box-sizing: border-box;top: 0;bottom: 0;left: 50%;z-index: -1;}#sk-container-id-2 div.sk-parallel-item {display: flex;flex-direction: column;z-index: 1;position: relative;background-color: white;}#sk-container-id-2 div.sk-parallel-item:first-child::after {align-self: flex-end;width: 50%;}#sk-container-id-2 div.sk-parallel-item:last-child::after {align-self: flex-start;width: 50%;}#sk-container-id-2 div.sk-parallel-item:only-child::after {width: 0;}#sk-container-id-2 div.sk-dashed-wrapped {border: 1px dashed gray;margin: 0 0.4em 0.5em 0.4em;box-sizing: border-box;padding-bottom: 0.4em;background-color: white;}#sk-container-id-2 div.sk-label label {font-family: monospace;font-weight: bold;display: inline-block;line-height: 1.2em;}#sk-container-id-2 div.sk-label-container {text-align: center;}#sk-container-id-2 div.sk-container {/* jupyter's `normalize.less` sets `[hidden] { display: none; }` but bootstrap.min.css set `[hidden] { display: none !important; }` so we also need the `!important` here to be able to override the default hidden behavior on the sphinx rendered scikit-learn.org. See: https://github.com/scikit-learn/scikit-learn/issues/21755 */display: inline-block !important;position: relative;}#sk-container-id-2 div.sk-text-repr-fallback {display: none;}</style><div id=\"sk-container-id-2\" class=\"sk-top-container\"><div class=\"sk-text-repr-fallback\"><pre> ARIMA(2,1,1)(0,0,0)[0]          </pre><b>In a Jupyter environment, please rerun this cell to show the HTML representation or trust the notebook. <br />On GitHub, the HTML representation is unable to render, please try loading this page with nbviewer.org.</b></div><div class=\"sk-container\" hidden><div class=\"sk-item\"><div class=\"sk-estimator sk-toggleable\"><input class=\"sk-toggleable__control sk-hidden--visually\" id=\"sk-estimator-id-2\" type=\"checkbox\" checked><label for=\"sk-estimator-id-2\" class=\"sk-toggleable__label sk-toggleable__label-arrow\">ARIMA</label><div class=\"sk-toggleable__content\"><pre> ARIMA(2,1,1)(0,0,0)[0]          </pre></div></div></div></div></div>"
      ],
      "text/plain": [
       "ARIMA(order=(2, 1, 1), scoring_args={}, suppress_warnings=True,\n",
       "      with_intercept=False)"
      ]
     },
     "execution_count": 29,
     "metadata": {},
     "output_type": "execute_result"
    }
   ],
   "source": [
    "model = pm.auto_arima(train['median_sale_price'], m=1, stepwise=True) \n",
    "# trace=True to show the aic and terms as it searches\n",
    "model"
   ]
  },
  {
   "cell_type": "code",
   "execution_count": 30,
   "id": "b0f5a163",
   "metadata": {},
   "outputs": [],
   "source": [
    "forecast = model.predict(valid.shape[0]) # \n",
    "preds, conf_int = model.predict(n_periods=valid.shape[0], return_conf_int=True)\n"
   ]
  },
  {
   "cell_type": "code",
   "execution_count": 31,
   "id": "173a9f21",
   "metadata": {},
   "outputs": [
    {
     "data": {
      "text/html": [
       "<table class=\"simpletable\">\n",
       "<caption>SARIMAX Results</caption>\n",
       "<tr>\n",
       "  <th>Dep. Variable:</th>           <td>y</td>        <th>  No. Observations:  </th>    <td>120</td>   \n",
       "</tr>\n",
       "<tr>\n",
       "  <th>Model:</th>           <td>SARIMAX(2, 1, 1)</td> <th>  Log Likelihood     </th> <td>-1497.699</td>\n",
       "</tr>\n",
       "<tr>\n",
       "  <th>Date:</th>            <td>Tue, 14 Feb 2023</td> <th>  AIC                </th> <td>3003.398</td> \n",
       "</tr>\n",
       "<tr>\n",
       "  <th>Time:</th>                <td>07:49:34</td>     <th>  BIC                </th> <td>3014.514</td> \n",
       "</tr>\n",
       "<tr>\n",
       "  <th>Sample:</th>                  <td>0</td>        <th>  HQIC               </th> <td>3007.912</td> \n",
       "</tr>\n",
       "<tr>\n",
       "  <th></th>                      <td> - 120</td>      <th>                     </th>     <td> </td>    \n",
       "</tr>\n",
       "<tr>\n",
       "  <th>Covariance Type:</th>        <td>opg</td>       <th>                     </th>     <td> </td>    \n",
       "</tr>\n",
       "</table>\n",
       "<table class=\"simpletable\">\n",
       "<tr>\n",
       "     <td></td>       <th>coef</th>     <th>std err</th>      <th>z</th>      <th>P>|z|</th>  <th>[0.025</th>    <th>0.975]</th>  \n",
       "</tr>\n",
       "<tr>\n",
       "  <th>ar.L1</th>  <td>    0.3283</td> <td>    0.110</td> <td>    2.976</td> <td> 0.003</td> <td>    0.112</td> <td>    0.544</td>\n",
       "</tr>\n",
       "<tr>\n",
       "  <th>ar.L2</th>  <td>   -0.1626</td> <td>    0.163</td> <td>   -0.996</td> <td> 0.319</td> <td>   -0.482</td> <td>    0.157</td>\n",
       "</tr>\n",
       "<tr>\n",
       "  <th>ma.L1</th>  <td>   -0.9233</td> <td>    0.072</td> <td>  -12.906</td> <td> 0.000</td> <td>   -1.063</td> <td>   -0.783</td>\n",
       "</tr>\n",
       "<tr>\n",
       "  <th>sigma2</th> <td> 5.804e+09</td> <td> 2.13e-11</td> <td> 2.72e+20</td> <td> 0.000</td> <td>  5.8e+09</td> <td>  5.8e+09</td>\n",
       "</tr>\n",
       "</table>\n",
       "<table class=\"simpletable\">\n",
       "<tr>\n",
       "  <th>Ljung-Box (L1) (Q):</th>     <td>0.07</td> <th>  Jarque-Bera (JB):  </th> <td>1181.36</td>\n",
       "</tr>\n",
       "<tr>\n",
       "  <th>Prob(Q):</th>                <td>0.80</td> <th>  Prob(JB):          </th>  <td>0.00</td>  \n",
       "</tr>\n",
       "<tr>\n",
       "  <th>Heteroskedasticity (H):</th> <td>6.75</td> <th>  Skew:              </th>  <td>3.34</td>  \n",
       "</tr>\n",
       "<tr>\n",
       "  <th>Prob(H) (two-sided):</th>    <td>0.00</td> <th>  Kurtosis:          </th>  <td>16.92</td> \n",
       "</tr>\n",
       "</table><br/><br/>Warnings:<br/>[1] Covariance matrix calculated using the outer product of gradients (complex-step).<br/>[2] Covariance matrix is singular or near-singular, with condition number 1.64e+36. Standard errors may be unstable."
      ],
      "text/plain": [
       "<class 'statsmodels.iolib.summary.Summary'>\n",
       "\"\"\"\n",
       "                               SARIMAX Results                                \n",
       "==============================================================================\n",
       "Dep. Variable:                      y   No. Observations:                  120\n",
       "Model:               SARIMAX(2, 1, 1)   Log Likelihood               -1497.699\n",
       "Date:                Tue, 14 Feb 2023   AIC                           3003.398\n",
       "Time:                        07:49:34   BIC                           3014.514\n",
       "Sample:                             0   HQIC                          3007.912\n",
       "                                - 120                                         \n",
       "Covariance Type:                  opg                                         \n",
       "==============================================================================\n",
       "                 coef    std err          z      P>|z|      [0.025      0.975]\n",
       "------------------------------------------------------------------------------\n",
       "ar.L1          0.3283      0.110      2.976      0.003       0.112       0.544\n",
       "ar.L2         -0.1626      0.163     -0.996      0.319      -0.482       0.157\n",
       "ma.L1         -0.9233      0.072    -12.906      0.000      -1.063      -0.783\n",
       "sigma2      5.804e+09   2.13e-11   2.72e+20      0.000     5.8e+09     5.8e+09\n",
       "===================================================================================\n",
       "Ljung-Box (L1) (Q):                   0.07   Jarque-Bera (JB):              1181.36\n",
       "Prob(Q):                              0.80   Prob(JB):                         0.00\n",
       "Heteroskedasticity (H):               6.75   Skew:                             3.34\n",
       "Prob(H) (two-sided):                  0.00   Kurtosis:                        16.92\n",
       "===================================================================================\n",
       "\n",
       "Warnings:\n",
       "[1] Covariance matrix calculated using the outer product of gradients (complex-step).\n",
       "[2] Covariance matrix is singular or near-singular, with condition number 1.64e+36. Standard errors may be unstable.\n",
       "\"\"\""
      ]
     },
     "execution_count": 31,
     "metadata": {},
     "output_type": "execute_result"
    }
   ],
   "source": [
    "model.summary()"
   ]
  },
  {
   "cell_type": "markdown",
   "id": "705ed549",
   "metadata": {},
   "source": [
    "Try same coefficients in a Seasonal Arima. Different package. "
   ]
  },
  {
   "cell_type": "code",
   "execution_count": 34,
   "id": "e036e2a2",
   "metadata": {},
   "outputs": [
    {
     "name": "stderr",
     "output_type": "stream",
     "text": [
      "C:\\Users\\zodia\\anaconda3\\lib\\site-packages\\statsmodels\\tsa\\base\\tsa_model.py:471: ValueWarning: No frequency information was provided, so inferred frequency MS will be used.\n",
      "  self._init_dates(dates, freq)\n",
      "C:\\Users\\zodia\\anaconda3\\lib\\site-packages\\statsmodels\\tsa\\base\\tsa_model.py:471: ValueWarning: No frequency information was provided, so inferred frequency MS will be used.\n",
      "  self._init_dates(dates, freq)\n"
     ]
    }
   ],
   "source": [
    "modsx = sm.tsa.statespace.SARIMAX(train['median_sale_price'], order=(4,1,1), seasonal_order=(1,0,1,12))\n",
    "resultssx=modsx.fit()\n",
    "forecastsx=resultssx.forecast(valid.shape[0]) \n",
    "# sarimax does not have get_forecast and uses predict for in sample"
   ]
  },
  {
   "cell_type": "code",
   "execution_count": 36,
   "id": "9d80de6b",
   "metadata": {
    "scrolled": true
   },
   "outputs": [
    {
     "name": "stdout",
     "output_type": "stream",
     "text": [
      "                                     SARIMAX Results                                      \n",
      "==========================================================================================\n",
      "Dep. Variable:                  median_sale_price   No. Observations:                  120\n",
      "Model:             SARIMAX(4, 1, 1)x(1, 0, 1, 12)   Log Likelihood               -1496.131\n",
      "Date:                            Tue, 14 Feb 2023   AIC                           3008.262\n",
      "Time:                                    07:50:27   BIC                           3030.495\n",
      "Sample:                                01-01-2012   HQIC                          3017.290\n",
      "                                     - 12-01-2021                                         \n",
      "Covariance Type:                              opg                                         \n",
      "==============================================================================\n",
      "                 coef    std err          z      P>|z|      [0.025      0.975]\n",
      "------------------------------------------------------------------------------\n",
      "ar.L1          0.2687      0.117      2.291      0.022       0.039       0.499\n",
      "ar.L2         -0.1530      0.170     -0.901      0.368      -0.486       0.180\n",
      "ar.L3         -0.0530      0.178     -0.299      0.765      -0.401       0.295\n",
      "ar.L4          0.0559      0.269      0.208      0.835      -0.470       0.582\n",
      "ma.L1         -0.9128      0.092     -9.971      0.000      -1.092      -0.733\n",
      "ar.S.L12      -0.6642      0.573     -1.159      0.246      -1.787       0.459\n",
      "ma.S.L12       0.5451      0.754      0.723      0.470      -0.932       2.023\n",
      "sigma2      5.736e+09   9.99e-10   5.74e+18      0.000    5.74e+09    5.74e+09\n",
      "===================================================================================\n",
      "Ljung-Box (L1) (Q):                   0.02   Jarque-Bera (JB):              1032.32\n",
      "Prob(Q):                              0.90   Prob(JB):                         0.00\n",
      "Heteroskedasticity (H):               6.64   Skew:                             3.22\n",
      "Prob(H) (two-sided):                  0.00   Kurtosis:                        15.91\n",
      "===================================================================================\n",
      "\n",
      "Warnings:\n",
      "[1] Covariance matrix calculated using the outer product of gradients (complex-step).\n",
      "[2] Covariance matrix is singular or near-singular, with condition number 2.19e+34. Standard errors may be unstable.\n"
     ]
    }
   ],
   "source": [
    "print(resultssx.summary())"
   ]
  },
  {
   "cell_type": "markdown",
   "id": "6d7f7b26",
   "metadata": {},
   "source": [
    "null hypothesis for ljung-box is that you have no-autocorrelations. this is not a great ljung-box score on either the non-seasonal or the seasonal arima. Note the similar AIC. The non-seasonal has slightly lower. "
   ]
  },
  {
   "cell_type": "code",
   "execution_count": 38,
   "id": "eb67d0f9",
   "metadata": {},
   "outputs": [
    {
     "data": {
      "text/plain": [
       "ShapiroResult(statistic=0.6917088031768799, pvalue=1.539027016722247e-14)"
      ]
     },
     "execution_count": 38,
     "metadata": {},
     "output_type": "execute_result"
    },
    {
     "data": {
      "image/png": "[encoded data removed]",
      "text/plain": [
       "<Figure size 432x288 with 1 Axes>"
      ]
     },
     "metadata": {
      "needs_background": "light"
     },
     "output_type": "display_data"
    }
   ],
   "source": [
    "# the residuals are supposed to normal. This is from Seasonal.\n",
    "sns.histplot(resultssx.resid) # this is from sarimax function\n",
    "stats.shapiro(resultssx.resid) # null is that the residuals are normal. "
   ]
  },
  {
   "cell_type": "code",
   "execution_count": 39,
   "id": "0f8043c9",
   "metadata": {},
   "outputs": [],
   "source": [
    "# create a dataframe for plotting \n",
    "v = valid.copy()\n",
    "v.insert(v.shape[1],\"f1\", forecast)\n",
    "v.insert(v.shape[1],\"f2\", forecastsx)"
   ]
  },
  {
   "cell_type": "code",
   "execution_count": 40,
   "id": "8e96eff8",
   "metadata": {
    "scrolled": true
   },
   "outputs": [
    {
     "data": {
      "text/html": [
       "<div>\n",
       "<style scoped>\n",
       "    .dataframe tbody tr th:only-of-type {\n",
       "        vertical-align: middle;\n",
       "    }\n",
       "\n",
       "    .dataframe tbody tr th {\n",
       "        vertical-align: top;\n",
       "    }\n",
       "\n",
       "    .dataframe thead th {\n",
       "        text-align: right;\n",
       "    }\n",
       "</style>\n",
       "<table border=\"1\" class=\"dataframe\">\n",
       "  <thead>\n",
       "    <tr style=\"text-align: right;\">\n",
       "      <th></th>\n",
       "      <th>median_sale_price</th>\n",
       "      <th>f1</th>\n",
       "      <th>f2</th>\n",
       "    </tr>\n",
       "    <tr>\n",
       "      <th>date</th>\n",
       "      <th></th>\n",
       "      <th></th>\n",
       "      <th></th>\n",
       "    </tr>\n",
       "  </thead>\n",
       "  <tbody>\n",
       "    <tr>\n",
       "      <th>2022-01-01</th>\n",
       "      <td>194950.0</td>\n",
       "      <td>207020.718747</td>\n",
       "      <td>216457.520202</td>\n",
       "    </tr>\n",
       "    <tr>\n",
       "      <th>2022-02-01</th>\n",
       "      <td>250000.0</td>\n",
       "      <td>215960.990294</td>\n",
       "      <td>217893.537653</td>\n",
       "    </tr>\n",
       "    <tr>\n",
       "      <th>2022-03-01</th>\n",
       "      <td>362000.0</td>\n",
       "      <td>221097.354558</td>\n",
       "      <td>220102.734742</td>\n",
       "    </tr>\n",
       "    <tr>\n",
       "      <th>2022-04-01</th>\n",
       "      <td>305250.0</td>\n",
       "      <td>221330.062602</td>\n",
       "      <td>208830.994442</td>\n",
       "    </tr>\n",
       "    <tr>\n",
       "      <th>2022-05-01</th>\n",
       "      <td>285000.0</td>\n",
       "      <td>220571.430658</td>\n",
       "      <td>220225.457097</td>\n",
       "    </tr>\n",
       "    <tr>\n",
       "      <th>2022-06-01</th>\n",
       "      <td>274000.0</td>\n",
       "      <td>220284.559574</td>\n",
       "      <td>214679.420331</td>\n",
       "    </tr>\n",
       "  </tbody>\n",
       "</table>\n",
       "</div>"
      ],
      "text/plain": [
       "            median_sale_price             f1             f2\n",
       "date                                                       \n",
       "2022-01-01           194950.0  207020.718747  216457.520202\n",
       "2022-02-01           250000.0  215960.990294  217893.537653\n",
       "2022-03-01           362000.0  221097.354558  220102.734742\n",
       "2022-04-01           305250.0  221330.062602  208830.994442\n",
       "2022-05-01           285000.0  220571.430658  220225.457097\n",
       "2022-06-01           274000.0  220284.559574  214679.420331"
      ]
     },
     "execution_count": 40,
     "metadata": {},
     "output_type": "execute_result"
    }
   ],
   "source": [
    "v"
   ]
  },
  {
   "cell_type": "code",
   "execution_count": 41,
   "id": "0ee545a6",
   "metadata": {},
   "outputs": [
    {
     "data": {
      "text/plain": [
       "<AxesSubplot:xlabel='date'>"
      ]
     },
     "execution_count": 41,
     "metadata": {},
     "output_type": "execute_result"
    },
    {
     "data": {
      "image/png": "[encoded data removed]",
      "text/plain": [
       "<Figure size 432x288 with 1 Axes>"
      ]
     },
     "metadata": {
      "needs_background": "light"
     },
     "output_type": "display_data"
    }
   ],
   "source": [
    "sns.lineplot(data=v[['f1', 'f2', 'median_sale_price']])"
   ]
  },
  {
   "cell_type": "code",
   "execution_count": 42,
   "id": "d1aa390a",
   "metadata": {},
   "outputs": [
    {
     "name": "stdout",
     "output_type": "stream",
     "text": [
      "mae =  64846.05351020696 69337.56265613729\n",
      "mape =  0.2140559604581366 0.2317295084111843\n"
     ]
    }
   ],
   "source": [
    " #sklearn.metrics.mean_absolute_error(y_true, y_pred, *, sample_weight=None, multioutput='uniform_average')[source]¶\n",
    "print(\"mae = \", mean_absolute_error(valid['median_sale_price'], v.f1), \n",
    "      mean_absolute_error(valid['median_sale_price'], v.f2))\n",
    "print(\"mape = \",mean_absolute_percentage_error(valid['median_sale_price'], v.f1), \n",
    "      mean_absolute_percentage_error(valid['median_sale_price'], v.f2))"
   ]
  },
  {
   "cell_type": "markdown",
   "id": "106cda58",
   "metadata": {},
   "source": [
    "Well! this is a pretty terrible MAPE. The non-seasonal model barely beats out the seasonal model. "
   ]
  },
  {
   "cell_type": "code",
   "execution_count": 45,
   "id": "5be472da",
   "metadata": {},
   "outputs": [],
   "source": [
    "# look at the model as compared to the training -SARIMA\n",
    "fitted=resultssx.predict(0,120)\n",
    "t = train.copy()\n",
    "t.insert(train.shape[1], \"sarimaFit\", fitted)\n",
    "# not sure how to get the in-time fits for the autoarima model"
   ]
  },
  {
   "cell_type": "code",
   "execution_count": 46,
   "id": "c54e5ae7",
   "metadata": {
    "scrolled": true
   },
   "outputs": [
    {
     "data": {
      "text/plain": [
       "<AxesSubplot:xlabel='date'>"
      ]
     },
     "execution_count": 46,
     "metadata": {},
     "output_type": "execute_result"
    },
    {
     "data": {
      "image/png": "[encoded data removed]",
      "text/plain": [
       "<Figure size 432x288 with 1 Axes>"
      ]
     },
     "metadata": {
      "needs_background": "light"
     },
     "output_type": "display_data"
    }
   ],
   "source": [
    "sns.lineplot(data=t[['sarimaFit', 'median_sale_price']])"
   ]
  },
  {
   "cell_type": "code",
   "execution_count": 47,
   "id": "14638c13",
   "metadata": {},
   "outputs": [],
   "source": [
    "# combine valid and train and fit the autoarima and sarimax and make predictions\n",
    "comb = train.copy()\n",
    "comb = pd.concat([comb, valid], axis=0)\n"
   ]
  },
  {
   "cell_type": "code",
   "execution_count": 48,
   "id": "e71def99",
   "metadata": {},
   "outputs": [],
   "source": [
    "# use the autoarima model to fit the combined data\n",
    "# predict out for test\n",
    "fcastTest = model.fit(comb.median_sale_price).predict(6)"
   ]
  },
  {
   "cell_type": "code",
   "execution_count": 49,
   "id": "358f7040",
   "metadata": {},
   "outputs": [
    {
     "name": "stdout",
     "output_type": "stream",
     "text": [
      "mae =  46549.75143761922\n",
      "mape =  0.16552130576255944\n"
     ]
    }
   ],
   "source": [
    "print(\"mae = \", mean_absolute_error(test['median_sale_price'], fcastTest))\n",
    "print(\"mape = \",mean_absolute_percentage_error(test['median_sale_price'], fcastTest))"
   ]
  },
  {
   "cell_type": "markdown",
   "id": "55dac3e0",
   "metadata": {},
   "source": [
    "This model does better on the test than it did on the validation. "
   ]
  },
  {
   "cell_type": "code",
   "execution_count": 50,
   "id": "a2846a9a",
   "metadata": {},
   "outputs": [],
   "source": [
    "test.insert(test.shape[1], \"predict\", fcastTest)\n"
   ]
  },
  {
   "cell_type": "code",
   "execution_count": 51,
   "id": "a72047ea",
   "metadata": {},
   "outputs": [
    {
     "data": {
      "text/plain": [
       "<AxesSubplot:xlabel='date'>"
      ]
     },
     "execution_count": 51,
     "metadata": {},
     "output_type": "execute_result"
    },
    {
     "data": {
      "image/png": "[encoded data removed]",
      "text/plain": [
       "<Figure size 432x288 with 1 Axes>"
      ]
     },
     "metadata": {
      "needs_background": "light"
     },
     "output_type": "display_data"
    }
   ],
   "source": [
    "sns.lineplot(data=test[['predict','median_sale_price']])"
   ]
  },
  {
   "cell_type": "markdown",
   "id": "cb5e63ab",
   "metadata": {},
   "source": [
    "Can't say that the model does a good job of capturing what is going on in the market here!"
   ]
  },
  {
   "cell_type": "code",
   "execution_count": 54,
   "id": "7294e90d",
   "metadata": {},
   "outputs": [
    {
     "name": "stdout",
     "output_type": "stream",
     "text": [
      "258138.54166666666\n",
      "245681.77548029195\n"
     ]
    }
   ],
   "source": [
    "print(comb.median_sale_price.tail(12).mean())\n",
    "print(test.predict.mean())"
   ]
  },
  {
   "cell_type": "markdown",
   "id": "e530350e",
   "metadata": {},
   "source": [
    "and the model may be worse than the average of the median sale price over the last 12 months! would need to calculate mape."
   ]
  },
  {
   "cell_type": "markdown",
   "id": "f5a9d0d8",
   "metadata": {},
   "source": [
    "## next steps\n",
    "Need to detrend the data and try again. ARIMA does differencing - but not trend. Although it looks like it followed pretty well in training set. "
   ]
  }
 ],
 "metadata": {
  "kernelspec": {
   "display_name": "Python 3 (ipykernel)",
   "language": "python",
   "name": "python3"
  },
  "language_info": {
   "codemirror_mode": {
    "name": "ipython",
    "version": 3
   },
   "file_extension": ".py",
   "mimetype": "text/x-python",
   "name": "python",
   "nbconvert_exporter": "python",
   "pygments_lexer": "ipython3",
   "version": "3.9.12"
  }
 },
 "nbformat": 4,
 "nbformat_minor": 5
}
